{
 "cells": [
  {
   "cell_type": "code",
   "execution_count": 1,
   "metadata": {},
   "outputs": [],
   "source": [
    "import re\n",
    "import linecache\n",
    "\n",
    "RE_DELIMITER = r'\\t'\n",
    "RE_DATE_TIME = r'(?=\\d{2}(?:\\d{2})?-\\d{1,2}-\\d{1,2} \\d{1,2}:\\d{1,2}:\\d{1,2})'\n",
    "RE_DATE_TIME_AFTER = r'\\\"(?=\\d{2}(?:\\d{2})?-\\d{1,2}-\\d{1,2} \\d{1,2}:\\d{1,2}:\\d{1,2})\\\"'"
   ]
  },
  {
   "cell_type": "code",
   "execution_count": 2,
   "metadata": {
    "scrolled": true
   },
   "outputs": [],
   "source": [
    "def split_line(line: str, re_expression = RE_DELIMITER) -> []:\n",
    "    pattern = re.compile(re_expression)\n",
    "    return pattern.split(line.strip('\\n'))\n",
    "\n",
    "\n",
    "def get_header(filename, split = True) -> []:\n",
    "    return get_line(filename, 0, split)\n",
    "\n",
    "\n",
    "def column_names(filename):\n",
    "    pass\n",
    "\n",
    "\n",
    "def _quote_date_time(line) -> str:\n",
    "    return re.sub(RE_DATE_TIME, RE_DATE_TIME_AFTER, line)\n",
    "    \n",
    "    \n",
    "def get_line(filename, line_index:int = 0, split = True):\n",
    "    if line_index < 0:\n",
    "        return [] if split else \"\"\n",
    "    f = open(filename, \"r\")\n",
    "    cur_line_index = 0\n",
    "    while cur_line_index < line_index:\n",
    "        cur_line_index += 1\n",
    "        f.readline()\n",
    "    line = f.readline()\n",
    "    f.close()\n",
    "    #print(\"line content: \\n{}\".format(line))\n",
    "    #line = linecache.getline(filename, line_index+1)\n",
    "    return split_line(line) if split else line\n",
    " \n",
    "    \n",
    "def get_column_index(filename, col_name) -> int:\n",
    "    header = get_header(filename)\n",
    "    index = -1\n",
    "    try:\n",
    "        index = header.index(col_name)\n",
    "    except:\n",
    "        index = -1\n",
    "    return index\n",
    "    \n",
    "    \n",
    "def _check_col_index_or_name(col_index_or_name = None) -> int:\n",
    "    if col_index_or_name is None:\n",
    "        raise Error(\"should provide either index or name of a column\")\n",
    "    if type(col_index_or_name) not in [int, str]:\n",
    "        raise Error(\"column info should be type of either integer or string\")\n",
    "    if type(col_index_or_name) in [str]:\n",
    "        col_index = get_column_index(filename, col_index_or_name)\n",
    "    else:\n",
    "        col_index = col_index_or_name\n",
    "    return col_index\n",
    "    \n",
    "def get_column(filename, col_index_or_name = None, include_header = False) -> []:\n",
    "    \n",
    "    col_index = _check_col_index_or_name(col_index_or_name)\n",
    "\n",
    "    max_col_index = get_col_count(filename) - 1\n",
    "    if col_index < 0 or col_index > max_col_index:\n",
    "        raise Error(\"can not find that column\")\n",
    "    \n",
    "    f = open(filename, \"r\")\n",
    "    cols = []\n",
    "    \n",
    "    if not include_header:\n",
    "        f.readline()\n",
    "        \n",
    "    while True:\n",
    "        line = f.readline()\n",
    "        if line == \"\": # EOF\n",
    "            break\n",
    "        else:\n",
    "            contents = split_line(line)\n",
    "            cols.append(contents[col_index])\n",
    "    f.close()\n",
    "    return cols\n",
    "\n",
    "\n",
    "def get_column_fast(filename, col_index_or_name = None, include_header = False) -> []:\n",
    "    col_index = _check_col_index_or_name(col_index_or_name)\n",
    "    # TODO: add more data\n",
    "    pass\n",
    "\n",
    "def get_freq(contents: []):\n",
    "    freq_dict = {}\n",
    "    for c in contents:\n",
    "        if c in freq_dict:\n",
    "            freq_dict[c] += 1\n",
    "        else:\n",
    "            freq_dict[c] = 1\n",
    "            \n",
    "    return freq_dict\n",
    "    \n",
    "    \n",
    "def get_info(content):\n",
    "    if type(content) in [str]:\n",
    "        columns = split_line(content, RE_DELIMITER)\n",
    "    else:\n",
    "        columns = content\n",
    "    info = []\n",
    "    info.append((\"total count\", len(columns)))\n",
    "    min_len_column, max_len_column = \"\", \"\"\n",
    "    min_len_index, max_len_index = None, None\n",
    "    min_len, max_len = 999, 0\n",
    "    for i, column in enumerate(columns):\n",
    "        l = len(column)\n",
    "        if l < min_len:\n",
    "            min_len = l\n",
    "            min_len_index = i\n",
    "            min_len_column = column\n",
    "        elif l > max_len:\n",
    "            max_len = l\n",
    "            max_len_column = column\n",
    "            max_len_index = i            \n",
    "                \n",
    "    freq = get_freq(columns)        \n",
    "    info.append((\"different values\", len(freq.keys())))\n",
    "    info.append((\"min len index\", min_len_index))\n",
    "    info.append((\"min len\", min_len))\n",
    "    info.append((\"min len value\", min_len_column))\n",
    "    info.append((\"max len index\", max_len_index))\n",
    "    info.append((\"max len\", max_len))\n",
    "    info.append((\"max len value\", max_len_column))   \n",
    "    show(info)\n",
    "    return\n",
    "\n",
    "        \n",
    "def header_info(filename, info = None):\n",
    "    header = get_header(filename)\n",
    "    columns = line_info(header, info)\n",
    "    return columns\n",
    "\n",
    "def get_line_count(filename) -> int:\n",
    "    f = open(filename, \"r\")\n",
    "    count = 0\n",
    "    while True:\n",
    "        s = f.readline() \n",
    "        if s != \"\":\n",
    "            count += 1\n",
    "        else:\n",
    "            break\n",
    "        \n",
    "    f.close()\n",
    "    return count\n",
    "\n",
    "\n",
    "def get_col_count(filename) -> int:\n",
    "    return len(get_line(filename, 0))\n",
    "\n",
    "\n",
    "def check_columns(filename, target_col_num):\n",
    "    f = open(filename, \"r\")\n",
    "    while True:\n",
    "        s = f.readline()\n",
    "        if s == \"\":\n",
    "            return True\n",
    "        elif len(split_line(s)) not in [target_col_num]:\n",
    "            return False\n",
    "    \n",
    "def show(info):\n",
    "    for line in info:\n",
    "        print(\"{}: {}\".format(line[0], line[1]))"
   ]
  },
  {
   "cell_type": "code",
   "execution_count": 4,
   "metadata": {
    "scrolled": true
   },
   "outputs": [
    {
     "name": "stdout",
     "output_type": "stream",
     "text": [
      "18152\n",
      "total count: 18152\n",
      "different values: 18152\n",
      "min len index: 0\n",
      "min len: 5\n",
      "min len value: f.eid\n",
      "max len index: 9158\n",
      "max len: 13\n",
      "max len value: f.20198.0.100\n",
      "lines:  101\n",
      "col index of [f.21000.0.0] is 9784\n",
      "['1001', '1001', '1001', '1001', '1001', '1001', '1001', '1001', '1001', '1001', '1001', '1001', '1001', '1001', '1001', '1001', '1001', '1001', '1001', '1001', '1001', '1001', '1001', '1001', '1001', '1001', '1001', '4002', '1001', '1001', '1001', '4002', '1001', '1001', '1001', '1001', '1001', '1001', '1002', '1001', '1001', '1001', '1001', '1001', '1001', '1001', '1001', '1003', '1001', '1001', '1001', '1001', '1001', '1001', '1001', '1001', '1001', '1001', '3004', '4001', '1001', '1001', '1001', '1001', '1001', '1001', '4002', '1001', '1001', '1001', '1001', '1001', '1001', '1001', '1001', '1001', '1001', '1001', '1001', '1001', '1001', '1001', '1001', '1001', '3004', '1001', '2003', '1001', '1001', '1001', '1001', '1001', '1001', '1001', '1001', '1001', '1001', '1001', '1001', '1001']\n"
     ]
    }
   ],
   "source": [
    "file = \"data\\\\ukb44409_100.tab\"\n",
    "header = get_header(file)\n",
    "print(len(header))\n",
    "get_info(header)\n",
    "count = get_line_count(file)\n",
    "print(\"lines: \", count)\n",
    "data_field = \"f.21000.0.0\"\n",
    "col_index = get_column_index(file, data_field)\n",
    "print(\"col index of [{}] is {}\".format(data_field, col_index))\n",
    "if(col_index > -1):\n",
    "    cols = get_column(file, col_index)\n",
    "    print(cols)\n",
    "#print(len(cols))"
   ]
  },
  {
   "cell_type": "code",
   "execution_count": null,
   "metadata": {},
   "outputs": [],
   "source": []
  },
  {
   "cell_type": "code",
   "execution_count": 23,
   "metadata": {
    "scrolled": true
   },
   "outputs": [
    {
     "name": "stdout",
     "output_type": "stream",
     "text": [
      "['f.eid f.31.0.0 f.22001.0.0 f.22009.0.1 f.22009.0.2 f.22009.0.3 f.22021.0.0']\n",
      "total count: 1\n",
      "different values: 1\n",
      "min len index: 0\n",
      "min len: 74\n",
      "min len value: f.eid f.31.0.0 f.22001.0.0 f.22009.0.1 f.22009.0.2 f.22009.0.3 f.22021.0.0\n",
      "max len index: None\n",
      "max len: 0\n",
      "max len value: \n",
      "lines:  502494\n",
      "col index of [f.22021.0.0] is -1\n"
     ]
    }
   ],
   "source": [
    "file = \"data\\\\sex_pca_kinship.txt\"\n",
    "header = get_header(file)\n",
    "print(header)\n",
    "get_info(header)\n",
    "count = get_line_count(file)\n",
    "print(\"lines: \", count)\n",
    "data_field = \"f.22021.0.0\"\n",
    "col_index = get_column_index(file, data_field)\n",
    "print(\"col index of [{}] is {}\".format(data_field, col_index))\n",
    "if(col_index > -1):\n",
    "    cols = get_column(file, col_index)\n",
    "    print(cols)\n",
    "#print(len(cols))"
   ]
  },
  {
   "cell_type": "code",
   "execution_count": 11,
   "metadata": {},
   "outputs": [
    {
     "name": "stdout",
     "output_type": "stream",
     "text": [
      "<class 'list'> 100\n",
      "<class 'list'> 100\n",
      "<class 'list'> 100\n",
      "<class 'list'> 100\n",
      "<class 'list'> 100\n",
      "<class 'list'> 100\n",
      "<class 'list'> 100\n",
      "<class 'list'> 100\n",
      "<class 'list'> 100\n",
      "<class 'list'> 100\n",
      "<class 'list'> 100\n",
      "<class 'list'> 100\n",
      "<class 'list'> 100\n",
      "<class 'list'> 100\n",
      "<class 'list'> 100\n",
      "<class 'list'> 100\n",
      "<class 'list'> 100\n",
      "<class 'list'> 100\n",
      "<class 'list'> 100\n",
      "<class 'list'> 100\n",
      "<class 'list'> 100\n",
      "<class 'list'> 100\n",
      "<class 'list'> 100\n",
      "<class 'list'> 100\n",
      "<class 'list'> 100\n",
      "<class 'list'> 100\n",
      "<class 'list'> 100\n",
      "<class 'list'> 100\n",
      "<class 'list'> 100\n",
      "<class 'list'> 100\n",
      "<class 'list'> 100\n",
      "<class 'list'> 100\n",
      "<class 'list'> 100\n",
      "<class 'list'> 100\n",
      "<class 'list'> 100\n",
      "<class 'list'> 100\n",
      "<class 'list'> 100\n",
      "<class 'list'> 100\n",
      "<class 'list'> 100\n",
      "<class 'list'> 100\n"
     ]
    }
   ],
   "source": [
    "data_fields = ['f.22009.0.1', 'f.22009.0.2', 'f.22009.0.3', 'f.22009.0.4', 'f.22009.0.5', 'f.22009.0.6', 'f.22009.0.7', 'f.22009.0.8', 'f.22009.0.9', 'f.22009.0.10', 'f.22009.0.11', 'f.22009.0.12', 'f.22009.0.13', 'f.22009.0.14', 'f.22009.0.15', 'f.22009.0.16', 'f.22009.0.17', 'f.22009.0.18', 'f.22009.0.19', 'f.22009.0.20', 'f.22009.0.21', 'f.22009.0.22', 'f.22009.0.23', 'f.22009.0.24', 'f.22009.0.25', 'f.22009.0.26', 'f.22009.0.27', 'f.22009.0.28', 'f.22009.0.29', 'f.22009.0.30', 'f.22009.0.31', 'f.22009.0.32', 'f.22009.0.33', 'f.22009.0.34', 'f.22009.0.35', 'f.22009.0.36', 'f.22009.0.37', 'f.22009.0.38', 'f.22009.0.39', 'f.22009.0.40']\n",
    "\n",
    "\n",
    "for data_field in data_fields:\n",
    "    col_index = get_column_index(file, data_field)\n",
    "    #print(\"col index of [{}] is {}\".format(data_field, col_index))\n",
    "    cols = get_column(file, col_index)\n",
    "    print(type(cols), len(cols))"
   ]
  },
  {
   "cell_type": "code",
   "execution_count": 14,
   "metadata": {},
   "outputs": [
    {
     "name": "stdout",
     "output_type": "stream",
     "text": [
      "['1', 'rs116390263', '0', '772927', 'C', 'T', '0.96968', '0.000336452', '0.000893053', '-0.000262368', '-0.00191726', '0.000552108', '-0.00318146', '0.0013126', '-0.00130153', '-0.0016725', '-0.00303943', '-0.00281615', '0.00322987', '-0.00288765', '-0.00443558', '-0.00278874']\n",
      "101284\n"
     ]
    }
   ],
   "source": [
    "pca_snp_file = \"snp_pca_map.txt\"\n",
    "header = get_header(pca_snp_file)\n",
    "print(header)\n",
    "count = get_line_count(pca_snp_file)\n",
    "print(count)"
   ]
  },
  {
   "cell_type": "code",
   "execution_count": 4,
   "metadata": {
    "scrolled": false
   },
   "outputs": [
    {
     "name": "stdout",
     "output_type": "stream",
     "text": [
      "101\n",
      "9995\n",
      "['1', '0', '1', 'NA', '0', '0', '1', '1', '1', '0', '0', '0', '0', '0', '0', '1', '1', '0', '0', '0', '1', '0', '1', '1', '1', '0', '0', '1', '1', '0', '0', '1', '0', '1', '1', '1', '1', '0', '1', '1', '1', '1', '0', '0', '1', '0', '0', '0', '0', 'NA', '1', '0', '0', 'NA', '0', '1', '1', 'NA', '0', '0', '0', '0', '0', '0', 'NA', '1', '1', '0', '1', '1', '0', '1', '1', '0', '1', '1', '1', '0', '0', '1', '1', '0', '1', '0', '0', '1', '1', '1', '1', '0', '0', '1', '1', '0', '0', '0', 'NA', '0', '0', '1']\n",
      "100\n"
     ]
    }
   ],
   "source": [
    "file = \"ukb44409_100.tab\"\n",
    "header = get_header(file)\n",
    "#print(header)\n",
    "#get_info(header)\n",
    "count = get_line_count(file)\n",
    "print(count)\n",
    "col_index = get_column_index(file, 'f.22001.0.0')\n",
    "print(col_index)\n",
    "cols = get_column(file, col_index)\n",
    "print(cols)\n",
    "print(len(cols))"
   ]
  },
  {
   "cell_type": "code",
   "execution_count": 9,
   "metadata": {
    "scrolled": false
   },
   "outputs": [
    {
     "name": "stdout",
     "output_type": "stream",
     "text": [
      "101\n",
      "['458', '821', '719', '694', '1323', '753', '457', '407', '297', '332', '290', '437', '493', '357', '583', '260', '454', '453', '391', '363', '445', '545', '431', '198', '632', '357', '502', '239', '403', '381', '458', '912', '572', '390', '486', '609', '558', '599', '406', '300', '670', '326', '754', '451', '410', '425', '534', '410', '756', '552', '401', '330', '619', '482', '415', '255', '652', 'NA', '1000', '659', '332', '455', '242', '237', '653', '441', '466', '540', '481', '384', '299', '388', '374', '661', '588', '841', '774', '493', '521', '406', '1070', '666', '978', '321', '484', '320', '621', '315', '1050', '321', '354', '605', '362', '553', '676', '341', '382', '659', '412', '445']\n",
      "100\n"
     ]
    }
   ],
   "source": [
    "file = \"ukb44409_100.tab\"\n",
    "header = get_header(file)\n",
    "#print(header)\n",
    "#get_info(header)\n",
    "count = get_line_count(file)\n",
    "print(count)\n",
    "#col_index = get_column_index(file, 0)\n",
    "#print(col_index)\n",
    "cols = get_column(file, 1)\n",
    "print(cols)\n",
    "print(len(cols))"
   ]
  },
  {
   "cell_type": "code",
   "execution_count": 14,
   "metadata": {},
   "outputs": [
    {
     "name": "stdout",
     "output_type": "stream",
     "text": [
      "['f.eid', 'f.3.0.0', 'f.3.1.0', 'f.3.2.0', 'f.3.3.0', 'f.4.0.0', 'f.4.1.0', 'f.4.2.0', 'f.4.3.0', 'f.5.0.0']\n",
      "total count: 18152\n",
      "different values: 18152\n",
      "min len index: 0\n",
      "min len: 5\n",
      "min len value: f.eid\n",
      "max len index: 9158\n",
      "max len: 13\n",
      "max len value: f.20198.0.100\n"
     ]
    }
   ],
   "source": [
    "line1 = get_header(file, True)\n",
    "print(header[0:10])\n",
    "get_info(line1)"
   ]
  },
  {
   "cell_type": "code",
   "execution_count": 22,
   "metadata": {
    "tags": []
   },
   "outputs": [
    {
     "name": "stdout",
     "output_type": "stream",
     "text": [
      "['f.31.0.0']\n",
      "total count: 1\n",
      "different values: 1\n",
      "min len index: 0\n",
      "min len: 8\n",
      "min len value: f.31.0.0\n",
      "max len index: None\n",
      "max len: 0\n",
      "max len value: \n",
      "502494\n",
      "0\n",
      "502493\n",
      "{'NA': 1, '0': 273377, '1': 229115}\n"
     ]
    }
   ],
   "source": [
    "sex_file = \"sex31_all.txt\"\n",
    "header = get_header(sex_file)\n",
    "print(header)\n",
    "get_info(header)\n",
    "count = get_line_count(sex_file)\n",
    "print(count)\n",
    "col_index = 0\n",
    "print(col_index)\n",
    "cols = get_column(sex_file, col_index)\n",
    "#print(cols)\n",
    "print(len(cols))\n",
    "sex_stat = get_freq(cols)\n",
    "print(sex_stat)"
   ]
  },
  {
   "cell_type": "code",
   "execution_count": 79,
   "metadata": {},
   "outputs": [
    {
     "data": {
      "text/plain": [
       "True"
      ]
     },
     "execution_count": 79,
     "metadata": {},
     "output_type": "execute_result"
    }
   ],
   "source": [
    "type(\"asd\") in [int, str]"
   ]
  },
  {
   "cell_type": "code",
   "execution_count": 15,
   "metadata": {},
   "outputs": [
    {
     "ename": "ImportError",
     "evalue": "No module named 'pandas'",
     "output_type": "error",
     "traceback": [
      "\u001b[1;31m---------------------------------------------------------------------------\u001b[0m",
      "\u001b[1;31mImportError\u001b[0m                               Traceback (most recent call last)",
      "\u001b[1;32m<ipython-input-15-68749dc57313>\u001b[0m in \u001b[0;36m<module>\u001b[1;34m\u001b[0m\n\u001b[0;32m      1\u001b[0m \u001b[0msex_file\u001b[0m \u001b[1;33m=\u001b[0m \u001b[1;34m\"eid_two_sexes_all.txt\"\u001b[0m\u001b[1;33m\u001b[0m\u001b[0m\n\u001b[1;32m----> 2\u001b[1;33m \u001b[1;32mimport\u001b[0m \u001b[0mpandas\u001b[0m \u001b[1;32mas\u001b[0m \u001b[0mpd\u001b[0m\u001b[1;33m\u001b[0m\u001b[0m\n\u001b[0m",
      "\u001b[1;31mImportError\u001b[0m: No module named 'pandas'"
     ]
    }
   ],
   "source": [
    "sex_file = \"eid_two_sexes_all.txt\"\n",
    "import pandas as pd"
   ]
  },
  {
   "cell_type": "code",
   "execution_count": 13,
   "metadata": {},
   "outputs": [
    {
     "data": {
      "text/plain": [
       "12"
      ]
     },
     "execution_count": 13,
     "metadata": {},
     "output_type": "execute_result"
    }
   ],
   "source": [
    "int(\"12\")"
   ]
  },
  {
   "cell_type": "code",
   "execution_count": null,
   "metadata": {},
   "outputs": [],
   "source": []
  }
 ],
 "metadata": {
  "kernelspec": {
   "display_name": "Python 3",
   "language": "python",
   "name": "python3"
  },
  "language_info": {
   "codemirror_mode": {
    "name": "ipython",
    "version": 3
   },
   "file_extension": ".py",
   "mimetype": "text/x-python",
   "name": "python",
   "nbconvert_exporter": "python",
   "pygments_lexer": "ipython3",
   "version": "3.9.0"
  }
 },
 "nbformat": 4,
 "nbformat_minor": 2
}
